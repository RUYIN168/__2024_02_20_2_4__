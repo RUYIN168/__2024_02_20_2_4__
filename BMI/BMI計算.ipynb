{
 "cells": [
  {
   "cell_type": "code",
   "execution_count": 31,
   "metadata": {},
   "outputs": [
    {
     "name": "stdout",
     "output_type": "stream",
     "text": [
      "20\n",
      "身高:168:cm,體重:50:公斤,\n",
      "BMI:17.72\n"
     ]
    }
   ],
   "source": [
    "n = input(\"姓名:\")\n",
    "height = eval(input(\"身高:\"))\n",
    "weight = eval(input(\"體重:\"))\n",
    "bmi = weight/((height/100)**2)\n",
    "print(f'{n}\\n身高:{height}:cm,體重:{weight}:公斤,\\nBMI:{bmi:.2f}')"
   ]
  },
  {
   "cell_type": "code",
   "execution_count": 33,
   "metadata": {},
   "outputs": [
    {
     "name": "stdout",
     "output_type": "stream",
     "text": [
      "姓名:20,身高(公尺):168.00,體重(公斤):50.00,BMI:0.00\n"
     ]
    }
   ],
   "source": [
    "name = input(\"請輸入姓名\")\n",
    "height = eval(input(\"請輸入身高\"))\n",
    "weight = eval(input(\"請輸入體重\"))\n",
    "# BMI = 體重(公斤) / 身高2(公尺2)\n",
    "bmi = weight / (height ** 2)\n",
    "print(f'姓名:{name},身高(公尺):{height:.2f},體重(公斤):{weight:.2f},BMI:{bmi:.2f}')"
   ]
  },
  {
   "cell_type": "code",
   "execution_count": null,
   "metadata": {},
   "outputs": [],
   "source": []
  }
 ],
 "metadata": {
  "kernelspec": {
   "display_name": "Python 3",
   "language": "python",
   "name": "python3"
  },
  "language_info": {
   "codemirror_mode": {
    "name": "ipython",
    "version": 3
   },
   "file_extension": ".py",
   "mimetype": "text/x-python",
   "name": "python",
   "nbconvert_exporter": "python",
   "pygments_lexer": "ipython3",
   "version": "3.10.13"
  }
 },
 "nbformat": 4,
 "nbformat_minor": 2
}
