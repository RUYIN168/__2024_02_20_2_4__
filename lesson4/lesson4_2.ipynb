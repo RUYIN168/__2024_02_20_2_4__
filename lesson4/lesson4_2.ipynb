{
 "cells": [
  {
   "cell_type": "code",
   "execution_count": 6,
   "metadata": {},
   "outputs": [
    {
     "name": "stdout",
     "output_type": "stream",
     "text": [
      "及格\n",
      "程式結束\n"
     ]
    }
   ],
   "source": [
    "score = int(input(\"請輸入學生分數:\"))\n",
    "\n",
    "#雙項選擇\n",
    "if score >= 60:\n",
    "    print(\"及格\")\n",
    "else:\n",
    "    print(\"不及格\")\n",
    "\n",
    "print(\"程式結束\")"
   ]
  },
  {
   "cell_type": "code",
   "execution_count": 14,
   "metadata": {},
   "outputs": [
    {
     "name": "stdout",
     "output_type": "stream",
     "text": [
      "學生總分為300\n"
     ]
    }
   ],
   "source": [
    "#學生總分為300\n",
    "#有些學生可以加分5%\n",
    "scores = int(input(\"請輸入學生分數(最高300分):\"))\n",
    "is_add =input(\"學生是否符合加分條件?(y,n)\")\n",
    "\n",
    "if is_add == \"y\":\n",
    "    scores *= 1.05\n",
    "    if  scores > 300:\n",
    "        scores = 300\n",
    "\n",
    "print(f'學生總分為{round(scores)}')"
   ]
  },
  {
   "cell_type": "code",
   "execution_count": 8,
   "metadata": {},
   "outputs": [
    {
     "name": "stdout",
     "output_type": "stream",
     "text": [
      "學生總分為210\n"
     ]
    }
   ],
   "source": [
    "#學生總分為300\n",
    "#有些學生可以加分5%\n",
    "#如果加分超過300,就以300分為準\n",
    "#檢查學生輸入有沒有超過300分,超過請顯示提示\n",
    "\n",
    "try:\n",
    "    scores = int(input(\"請輸入學生分數(最高300分):\"))\n",
    "    if scores <=300 and scores >=0:\n",
    "        is_add =input(\"學生是否符合加分條件?(y,n)\")\n",
    "\n",
    "        if is_add == \"y\":\n",
    "            scores *= 1.05\n",
    "            if  scores > 300:\n",
    "                scores = 300\n",
    "\n",
    "        print(f'學生總分為{round(scores)}')\n",
    "    else:\n",
    "        print('輸入超出範圍')\n",
    "except:\n",
    "    print(\"輸入格式錯誤\")"
   ]
  },
  {
   "cell_type": "code",
   "execution_count": 13,
   "metadata": {},
   "outputs": [
    {
     "name": "stdout",
     "output_type": "stream",
     "text": [
      "輸入格式錯誤\n"
     ]
    }
   ],
   "source": [
    "#解決raise 錯誤的語法\n",
    "#try...except...else\n",
    "try:\n",
    "    money = eval(input(\"請輸入金額:\"))\n",
    "    print(money)\n",
    "except:\n",
    "    print(\"輸入格式錯誤\")\n",
    "else:\n",
    "    print(\"程式沒有錯誤\")"
   ]
  },
  {
   "cell_type": "code",
   "execution_count": 20,
   "metadata": {},
   "outputs": [
    {
     "name": "stdout",
     "output_type": "stream",
     "text": [
      "大於等於90\n"
     ]
    }
   ],
   "source": [
    "value = eval(input('請輸入一個數值'))\n",
    "if value <60:\n",
    "    print('小於60')\n",
    "elif value >=60 and value < 80:\n",
    "    print('在60和80之間')\n",
    "elif value >=80 and value <90:\n",
    "    print(\"在80和90之間\")\n",
    "else:\n",
    "    print(\"大於等於90\")"
   ]
  },
  {
   "cell_type": "code",
   "execution_count": 23,
   "metadata": {},
   "outputs": [
    {
     "ename": "SyntaxError",
     "evalue": "invalid syntax (1644325731.py, line 8)",
     "output_type": "error",
     "traceback": [
      "\u001b[0;36m  Cell \u001b[0;32mIn[23], line 8\u001b[0;36m\u001b[0m\n\u001b[0;31m    elif bmi 18.5 <= 24:\u001b[0m\n\u001b[0m             ^\u001b[0m\n\u001b[0;31mSyntaxError\u001b[0m\u001b[0;31m:\u001b[0m invalid syntax\n"
     ]
    }
   ],
   "source": [
    "try:\n",
    "    height = eval(input(\"身高:\"))\n",
    "    weight = eval(input(\"體重:\"))\n",
    "    bmi = weight/((height/100)**2)\n",
    "    print(f'您的BMI是:{bmi:.3f}')\n",
    "    if  bmi <18.5:\n",
    "        print('您的體重:過輕')\n",
    "    elif bmi 18.5 <= 24:\n",
    "        print('您的體重:正常範圍')\n",
    "    elif bmi <=24 and bmi < 27:\n",
    "        print('您的體重:過重')        \n",
    "    elif bmi <=24 and bmi <27:\n",
    "        print(\"您的體重:輕度肥胖\")\n",
    "    elif bmi <=30 and bmi <35:\n",
    "        print(\"您的體重:中度肥胖\")    \n",
    "    else:\n",
    "        print(\"您的體重:重度肥胖\")\n",
    "except:\n",
    "    print(\"格式錯誤\")\n",
    "\n"
   ]
  },
  {
   "cell_type": "code",
   "execution_count": 46,
   "metadata": {},
   "outputs": [
    {
     "name": "stdout",
     "output_type": "stream",
     "text": [
      "您的BMI是:24.0\n",
      "您的體重:過重\n"
     ]
    }
   ],
   "source": [
    "try:\n",
    "    height = eval(input(\"身高:\"))\n",
    "    weight = eval(input(\"體重:\"))\n",
    "    bmi = weight/((height/100)**2)\n",
    "    print(f'您的BMI是:{bmi:.1f}')\n",
    "    if  bmi <18.5:\n",
    "        print('您的體重:過輕')\n",
    "    elif bmi >=18.5 and bmi < 24:\n",
    "        print('您的體重:正常範圍')\n",
    "    elif bmi >=24 and bmi < 27:\n",
    "        print('您的體重:過重')        \n",
    "    elif bmi >=27 and bmi <30:\n",
    "        print('您的體重:輕度肥胖')\n",
    "    elif bmi >=30 and bmi <35:\n",
    "        print('您的體重:中度肥胖')    \n",
    "    else:\n",
    "        print('您的體重:重度肥胖')\n",
    "except:\n",
    "    print(\"格式錯誤\")\n",
    "\n"
   ]
  },
  {
   "cell_type": "code",
   "execution_count": 47,
   "metadata": {},
   "outputs": [
    {
     "name": "stdout",
     "output_type": "stream",
     "text": [
      "您的BMI是:24.0\n",
      "您的體重:過重\n"
     ]
    }
   ],
   "source": [
    "try:\n",
    "    height = eval(input(\"身高:\"))\n",
    "    weight = eval(input(\"體重:\"))\n",
    "    bmi = weight/((height/100)**2)\n",
    "    print(f'您的BMI是:{bmi:.1f}')\n",
    "    if  bmi <18.5:\n",
    "        print('您的體重:過輕')\n",
    "    elif 18.5 <= bmi < 24:\n",
    "        print('您的體重:正常範圍')\n",
    "    elif  24 <= bmi < 27:\n",
    "        print('您的體重:過重')        \n",
    "    elif 27<= bmi <30:\n",
    "        print('您的體重:輕度肥胖')\n",
    "    elif 30 <= bmi <35:\n",
    "        print('您的體重:中度肥胖')    \n",
    "    else:\n",
    "        print('您的體重:重度肥胖')\n",
    "except:\n",
    "    print(\"格式錯誤\")\n"
   ]
  },
  {
   "cell_type": "code",
   "execution_count": 52,
   "metadata": {},
   "outputs": [
    {
     "name": "stdout",
     "output_type": "stream",
     "text": [
      "您的BMI是:17.7\n",
      "您的體重:過輕\n"
     ]
    }
   ],
   "source": [
    "try:\n",
    "    height = eval(input(\"身高:\"))\n",
    "    weight = eval(input(\"體重:\"))\n",
    "    bmi = weight/((height/100)**2)\n",
    "    print(f'您的BMI是:{bmi:.1f}')\n",
    "    if  bmi <18.5:\n",
    "        print('您的體重:過輕')\n",
    "    elif bmi >=18.5 and bmi < 24:\n",
    "        print('您的體重:正常範圍')\n",
    "    elif bmi >=24 and bmi < 27:\n",
    "        print('您的體重:過重')\n",
    "    elif bmi >=27 and bmi <30:\n",
    "        print('您的體重:輕度肥胖')\n",
    "    elif bmi >=30 and bmi <35:\n",
    "        print('您的體重:中度肥胖')\n",
    "    else:\n",
    "        print('您的體重:重度肥胖')\n",
    "except:\n",
    "    print(\"格式錯誤\")"
   ]
  },
  {
   "cell_type": "code",
   "execution_count": 53,
   "metadata": {},
   "outputs": [
    {
     "name": "stdout",
     "output_type": "stream",
     "text": [
      "您的BMI是:21.3\n",
      "您的體重:正常範圍\n"
     ]
    }
   ],
   "source": [
    "try:\n",
    "    height = eval(input(\"身高:\"))\n",
    "    weight = eval(input(\"體重:\"))\n",
    "    bmi = weight/((height/100)**2)\n",
    "    print(f'您的BMI是:{bmi:.1f}')\n",
    "    if  bmi <18.5:\n",
    "        print('您的體重:過輕')\n",
    "    elif bmi >=18.5 and bmi < 24:\n",
    "        print('您的體重:正常範圍')\n",
    "    elif bmi >=24 and bmi < 27:\n",
    "        print('您的體重:過重')\n",
    "    elif bmi >=27 and bmi <30:\n",
    "        print('您的體重:輕度肥胖')\n",
    "    elif bmi >=30 and bmi <35:\n",
    "        print('您的體重:中度肥胖')\n",
    "    else:\n",
    "        print('您的體重:重度肥胖')\n",
    "except:\n",
    "    print(\"格式錯誤\")"
   ]
  },
  {
   "cell_type": "code",
   "execution_count": 13,
   "metadata": {},
   "outputs": [
    {
     "name": "stdout",
     "output_type": "stream",
     "text": [
      "您的BMI是:26.0\n",
      "您的體重:過重\n"
     ]
    }
   ],
   "source": [
    "import pyinputplus as pyip\n",
    "    \n",
    "height = pyip.inputInt(身高:='')\n",
    "weight = pyip.inputInt(體重:='')\n",
    "bmi = weight/((height/100)**2)\n",
    "print(f'您的BMI是:{bmi:.1f}')\n",
    "if  bmi <18.5:\n",
    "    print('您的體重:過輕')\n",
    "elif bmi >=18.5 and bmi < 24:\n",
    "    print('您的體重:正常範圍')\n",
    "elif bmi >=24 and bmi < 27:\n",
    "    print('您的體重:過重')\n",
    "elif bmi >=27 and bmi <30:\n",
    "    print('您的體重:輕度肥胖')\n",
    "elif bmi >=30 and bmi <35:\n",
    "    print('您的體重:中度肥胖')\n",
    "else:\n",
    "    print('您的體重:重度肥胖')\n"
   ]
  }
 ],
 "metadata": {
  "kernelspec": {
   "display_name": "Python 3",
   "language": "python",
   "name": "python3"
  },
  "language_info": {
   "codemirror_mode": {
    "name": "ipython",
    "version": 3
   },
   "file_extension": ".py",
   "mimetype": "text/x-python",
   "name": "python",
   "nbconvert_exporter": "python",
   "pygments_lexer": "ipython3",
   "version": "3.10.13"
  }
 },
 "nbformat": 4,
 "nbformat_minor": 2
}
