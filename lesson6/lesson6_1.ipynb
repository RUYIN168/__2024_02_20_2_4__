{
 "cells": [
  {
   "cell_type": "code",
   "execution_count": 1,
   "metadata": {},
   "outputs": [
    {
     "name": "stdout",
     "output_type": "stream",
     "text": [
      "恭喜!已經存夠了,存了2個月的總存款為:40000元。\n"
     ]
    }
   ],
   "source": [
    "deposit = 0\n",
    "month = 0\n",
    "while deposit <30000:\n",
    "    month += 1\n",
    "    input_money = int(input(f\"請輸入第{month}月份的存款:\"))\n",
    "    deposit += input_money\n",
    "\n",
    "print(f\"恭喜!已經存夠了,存了{month}個月的總存款為:{deposit}元。\")"
   ]
  },
  {
   "cell_type": "code",
   "execution_count": 3,
   "metadata": {},
   "outputs": [
    {
     "name": "stdout",
     "output_type": "stream",
     "text": [
      "恭喜!已經存夠了,存了2個月的總存款為:50000元。\n"
     ]
    }
   ],
   "source": [
    "deposit = 0\n",
    "month = 0\n",
    "while True:\n",
    "    month += 1\n",
    "    input_money = int(input(f\"請輸入第{month}月份的存款:\"))\n",
    "    deposit += input_money\n",
    "    if deposit >= 30000:\n",
    "        break\n",
    "\n",
    "print(f\"恭喜!已經存夠了,存了{month}個月的總存款為:{deposit}元。\")"
   ]
  },
  {
   "cell_type": "code",
   "execution_count": 6,
   "metadata": {},
   "outputs": [
    {
     "name": "stdout",
     "output_type": "stream",
     "text": [
      "加總的次數是0次,所有輸入的正偶數的加總是0\n"
     ]
    }
   ],
   "source": [
    "num = 0\n",
    "num1 = 0\n",
    "sum = 0\n",
    "while True:\n",
    "    num1 += 1\n",
    "    input_value = int (input(f'請輸入第{num1}個數值'))\n",
    "    if input_value < 0:\n",
    "        break\n",
    "    elif input_value % 2 ==1:\n",
    "        continue \n",
    "    num += 1\n",
    "    sum +=input_value\n",
    "\n",
    "print(f\"加總的次數是{num}次,所有輸入的正偶數的加總是{sum}\")"
   ]
  },
  {
   "cell_type": "code",
   "execution_count": 9,
   "metadata": {},
   "outputs": [
    {
     "name": "stdout",
     "output_type": "stream",
     "text": [
      "10A:格式錯誤\n",
      "50A:格式錯誤\n",
      "50A:格式錯誤\n",
      "50\n"
     ]
    }
   ],
   "source": [
    "while(True):\n",
    "    try:\n",
    "        input_str = input(\"請輸入整數\")\n",
    "        input_value = int(input_str)\n",
    "    except:\n",
    "        print(f\"{input_str}:格式錯誤\")\n",
    "        continue\n",
    "    else:\n",
    "        break\n",
    "print(input_value)\n"
   ]
  },
  {
   "cell_type": "code",
   "execution_count": null,
   "metadata": {},
   "outputs": [],
   "source": []
  }
 ],
 "metadata": {
  "kernelspec": {
   "display_name": "Python 3",
   "language": "python",
   "name": "python3"
  },
  "language_info": {
   "codemirror_mode": {
    "name": "ipython",
    "version": 3
   },
   "file_extension": ".py",
   "mimetype": "text/x-python",
   "name": "python",
   "nbconvert_exporter": "python",
   "pygments_lexer": "ipython3",
   "version": "3.10.13"
  }
 },
 "nbformat": 4,
 "nbformat_minor": 2
}
