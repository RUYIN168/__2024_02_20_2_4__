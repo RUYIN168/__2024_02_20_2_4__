{
 "cells": [
  {
   "cell_type": "code",
   "execution_count": 41,
   "metadata": {},
   "outputs": [
    {
     "name": "stdout",
     "output_type": "stream",
     "text": [
      "10的正因數有\n",
      "1,2,5,10,"
     ]
    }
   ],
   "source": [
    "try:\n",
    "    n = int(input('請輸入整數:'))\n",
    "    print(f'{n}的正因數有')\n",
    "    for i in range(1,n+1):\n",
    "        if n % i == 0:\n",
    "\n",
    "         print(f'{i},',end='')\n",
    "except:\n",
    "    print(\"格式錯誤\")"
   ]
  },
  {
   "cell_type": "code",
   "execution_count": 14,
   "metadata": {},
   "outputs": [
    {
     "name": "stdout",
     "output_type": "stream",
     "text": [
      "10的正因數有:\n",
      "1 2 5 10 "
     ]
    }
   ],
   "source": [
    "try:\n",
    "    n = int(input(\"請輸入整數:\"))\n",
    "    print(f'{n}的正因數有:')\n",
    "    for i in range(1,n+1):\n",
    "        if n % i == 0:\n",
    "         \n",
    "         print(f'{i}',end=\" \")\n",
    "except:\n",
    "    print(\"格式錯誤\")"
   ]
  }
 ],
 "metadata": {
  "kernelspec": {
   "display_name": "Python 3",
   "language": "python",
   "name": "python3"
  },
  "language_info": {
   "codemirror_mode": {
    "name": "ipython",
    "version": 3
   },
   "file_extension": ".py",
   "mimetype": "text/x-python",
   "name": "python",
   "nbconvert_exporter": "python",
   "pygments_lexer": "ipython3",
   "version": "3.10.13"
  }
 },
 "nbformat": 4,
 "nbformat_minor": 2
}
